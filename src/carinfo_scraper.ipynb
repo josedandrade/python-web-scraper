{
 "cells": [
  {
   "cell_type": "code",
   "execution_count": 6,
   "metadata": {},
   "outputs": [],
   "source": [
    "import pandas as pd"
   ]
  },
  {
   "cell_type": "code",
   "execution_count": 7,
   "metadata": {},
   "outputs": [],
   "source": [
    "from gather_info import gatherInfoFromURL"
   ]
  },
  {
   "cell_type": "code",
   "execution_count": 6,
   "metadata": {},
   "outputs": [],
   "source": [
    "# Scraping information from `cars-data.com`"
   ]
  },
  {
   "cell_type": "code",
   "execution_count": 3,
   "metadata": {
    "scrolled": true
   },
   "outputs": [
    {
     "name": "stdout",
     "output_type": "stream",
     "text": [
      "Found 48 cars on page : http://www.cars-data.com/en/sport-cars.html\n",
      "Found 48 cars on page : http://www.cars-data.com/en/sport-cars/page2.html\n",
      "Found 48 cars on page : http://www.cars-data.com/en/sport-cars/page3.html\n",
      "Found 48 cars on page : http://www.cars-data.com/en/sport-cars/page4.html\n",
      "Found 29 cars on page : http://www.cars-data.com/en/sport-cars/page5.html\n"
     ]
    }
   ],
   "source": [
    "carinfo = gatherInfoFromURL(url=\"http://www.cars-data.com/en/sport-cars.html\")"
   ]
  },
  {
   "cell_type": "code",
   "execution_count": 8,
   "metadata": {},
   "outputs": [
    {
     "ename": "NameError",
     "evalue": "name 'carinfo' is not defined",
     "output_type": "error",
     "traceback": [
      "\u001b[0;31m---------------------------------------------------------------------------\u001b[0m",
      "\u001b[0;31mNameError\u001b[0m                                 Traceback (most recent call last)",
      "\u001b[0;32m<ipython-input-8-da47594b16ef>\u001b[0m in \u001b[0;36m<module>\u001b[0;34m()\u001b[0m\n\u001b[0;32m----> 1\u001b[0;31m \u001b[0mprint\u001b[0m\u001b[0;34m(\u001b[0m\u001b[0mlen\u001b[0m\u001b[0;34m(\u001b[0m\u001b[0mcarinfo\u001b[0m\u001b[0;34m[\u001b[0m\u001b[0;34m\"cars\"\u001b[0m\u001b[0;34m]\u001b[0m\u001b[0;34m)\u001b[0m\u001b[0;34m)\u001b[0m\u001b[0;34m\u001b[0m\u001b[0m\n\u001b[0m",
      "\u001b[0;31mNameError\u001b[0m: name 'carinfo' is not defined"
     ]
    }
   ],
   "source": [
    "print(len(carinfo[\"cars\"]))"
   ]
  },
  {
   "cell_type": "code",
   "execution_count": 8,
   "metadata": {},
   "outputs": [],
   "source": [
    "carDataFrame = pd.DataFrame({\"Cars\": carinfo.get(\"cars\"), \"year\": carinfo.get(\"year\"), \"power\": carinfo.get(\"power\"), \"car type\": carinfo.get(\"carType\")})"
   ]
  },
  {
   "cell_type": "code",
   "execution_count": 9,
   "metadata": {
    "scrolled": true
   },
   "outputs": [
    {
     "name": "stdout",
     "output_type": "stream",
     "text": [
      "                     Cars     car type power            year\n",
      "0       Ferrari LaFerrari        coupe   963  2013 - present\n",
      "1      Porsche 918 Spyder  convertible   887     2014 - 2016\n",
      "2  Ferrari F12 Berlinetta        coupe   740  2012 - present\n",
      "3   Lamborghini Aventador        coupe   700  2011 - present\n",
      "4             Mclaren 675        coupe   675  2015 - present\n"
     ]
    }
   ],
   "source": [
    "print(carDataFrame.head())"
   ]
  },
  {
   "cell_type": "code",
   "execution_count": null,
   "metadata": {},
   "outputs": [],
   "source": []
  }
 ],
 "metadata": {
  "kernelspec": {
   "display_name": "Python 3",
   "language": "python",
   "name": "python3"
  },
  "language_info": {
   "codemirror_mode": {
    "name": "ipython",
    "version": 3
   },
   "file_extension": ".py",
   "mimetype": "text/x-python",
   "name": "python",
   "nbconvert_exporter": "python",
   "pygments_lexer": "ipython3",
   "version": "3.6.4"
  }
 },
 "nbformat": 4,
 "nbformat_minor": 2
}
